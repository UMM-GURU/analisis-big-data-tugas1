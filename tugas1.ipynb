{
 "cells": [
  {
   "cell_type": "markdown",
   "metadata": {},
   "source": [
    "## Tujuan Pembelajaran:\n",
    "\n",
    "* Memperoleh pengantar tentang struktur data **DataFrame** dan **Series** dari *library* pandas\n",
    "* Mengakses dan memanipulasi data di dalam **DataFrame** dan **Series**\n",
    "* Mengimpor data CSV ke dalam pandas **DataFrame**\n",
    "* Melakukan *reindex* pada **DataFrame** untuk mengacak data"
   ]
  },
  {
   "cell_type": "markdown",
   "metadata": {},
   "source": [
    "pandas adalah API analisis data berorientasi kolom. Ini adalah alat yang hebat untuk menangani dan menganalisis data masukan, dan banyak *framework* ML mendukung struktur data pandas sebagai masukan. Meskipun pengenalan komprehensif terhadap API pandas akan memakan banyak halaman, konsep-konsep intinya cukup mudah, dan akan kami sajikan di bawah. Untuk referensi yang lebih lengkap, situs [dokumen pandas](https://pandas.pydata.org/pandas-docs/stable/index.html) berisi dokumentasi ekstensif dan banyak tutorial."
   ]
  },
  {
   "cell_type": "markdown",
   "metadata": {},
   "source": [
    "# Konsep Dasar\n",
    "\n",
    "Baris berikut mengimpor API pandas dan mencetak versi API:"
   ]
  },
  {
   "cell_type": "code",
   "execution_count": null,
   "metadata": {},
   "outputs": [],
   "source": [
    "from __future__ import print_function\n",
    "\n",
    "import pandas as pd\n",
    "pd.__version__"
   ]
  },
  {
   "cell_type": "markdown",
   "metadata": {},
   "source": [
    "Struktur data utama dalam pandas diimplementasikan sebagai dua kelas:\n",
    "\n",
    "* **DataFrame**, yang dapat Anda bayangkan sebagai tabel data relasional, dengan baris dan kolom bernama.\n",
    "* **Series**, yang merupakan kolom tunggal. Sebuah **DataFrame** berisi satu atau lebih **Series** dan nama untuk setiap **Series**.\n",
    "\n",
    "DataFrame adalah abstraksi yang umum digunakan untuk manipulasi data. Implementasi serupa ada di Spark dan R."
   ]
  },
  {
   "cell_type": "markdown",
   "metadata": {},
   "source": [
    "Salah satu cara untuk membuat **Series** adalah dengan membuat objek **Series**. Contohnya:"
   ]
  },
  {
   "cell_type": "code",
   "execution_count": null,
   "metadata": {},
   "outputs": [],
   "source": [
    "pd.Series(['San Francisco', 'San Jose', 'Sacramento'])"
   ]
  },
  {
   "cell_type": "markdown",
   "metadata": {},
   "source": [
    "Objek **DataFrame** dapat dibuat dengan meneruskan *dict* yang memetakan nama kolom *string* ke **Series** masing-masing. Jika panjang **Series** tidak cocok, nilai yang hilang diisi dengan nilai khusus NA/NaN. Contoh:"
   ]
  },
  {
   "cell_type": "code",
   "execution_count": null,
   "metadata": {},
   "outputs": [],
   "source": [
    "city_names = pd.Series(['San Francisco', 'San Jose', 'Sacramento'])\n",
    "population = pd.Series([852469, 1015785, 485199])\n",
    "\n",
    "pd.DataFrame({ 'City name': city_names, 'Population': population })"
   ]
  },
  {
   "cell_type": "markdown",
   "metadata": {},
   "source": [
    "Namun sebagian besar waktu, Anda memuat seluruh *file* ke dalam **DataFrame**. Contoh berikut memuat *file* dengan data perumahan California. Jalankan sel berikut untuk memuat data dan membuat definisi *fitur*:"
   ]
  },
  {
   "cell_type": "code",
   "execution_count": null,
   "metadata": {},
   "outputs": [],
   "source": [
    "california_housing_dataframe = pd.read_csv(\"https://download.mlcc.google.com/mledu-datasets/california_housing_train.csv\", sep=\",\")\n",
    "california_housing_dataframe.describe()"
   ]
  },
  {
   "cell_type": "markdown",
   "metadata": {},
   "source": [
    "Contoh di atas menggunakan `DataFrame.describe` untuk menunjukkan statistik menarik tentang **DataFrame**. Fungsi lainnya adalah `DataFrame.head`, yang menampilkan beberapa catatan pertama dari **DataFrame**:"
   ]
  },
  {
   "cell_type": "code",
   "execution_count": null,
   "metadata": {},
   "outputs": [],
   "source": [
    "california_housing_dataframe.head()"
   ]
  },
  {
   "cell_type": "markdown",
   "metadata": {},
   "source": [
    "Fitur kuat lain dari pandas adalah pembuatan grafik. Misalnya, `DataFrame.hist` memungkinkan Anda mempelajari distribusi nilai dalam kolom dengan cepat:"
   ]
  },
  {
   "cell_type": "code",
   "execution_count": null,
   "metadata": {},
   "outputs": [],
   "source": [
    "california_housing_dataframe.hist('housing_median_age')"
   ]
  },
  {
   "cell_type": "markdown",
   "metadata": {},
   "source": [
    "# Mengakses Data\n",
    "\n",
    "Anda dapat mengakses data **DataFrame** menggunakan operasi *dict/list* Python yang sudah dikenal:"
   ]
  },
  {
   "cell_type": "code",
   "execution_count": null,
   "metadata": {},
   "outputs": [],
   "source": [
    "cities = pd.DataFrame({ 'City name': city_names, 'Population': population })\n",
    "\n",
    "print(type(cities['City name']))\n",
    "cities['City name']"
   ]
  },
  {
   "cell_type": "code",
   "execution_count": null,
   "metadata": {},
   "outputs": [],
   "source": [
    "print(type(cities['City name'][1]))\n",
    "cities['City name'][1]"
   ]
  },
  {
   "cell_type": "code",
   "execution_count": null,
   "metadata": {},
   "outputs": [],
   "source": [
    "print(type(cities[0:2]))\n",
    "cities[0:2]"
   ]
  },
  {
   "cell_type": "markdown",
   "metadata": {},
   "source": [
    "Selain itu, pandas menyediakan API yang sangat kaya untuk pengindeksan dan pemilihan lanjutan yang terlalu luas untuk dibahas di sini."
   ]
  },
  {
   "cell_type": "markdown",
   "metadata": {},
   "source": [
    "# Memanipulasi Data\n",
    "\n",
    "Anda dapat menerapkan operasi aritmatika dasar Python ke **Series**. Contohnya:"
   ]
  },
  {
   "cell_type": "code",
   "execution_count": null,
   "metadata": {},
   "outputs": [],
   "source": [
    "population / 1000."
   ]
  },
  {
   "cell_type": "markdown",
   "metadata": {},
   "source": [
    "NumPy adalah *toolkit* populer untuk komputasi ilmiah. pandas **Series** dapat digunakan sebagai argumen untuk sebagian besar fungsi NumPy:"
   ]
  },
  {
   "cell_type": "code",
   "execution_count": null,
   "metadata": {},
   "outputs": [],
   "source": [
    "import numpy as np\n",
    "np.log(population)"
   ]
  },
  {
   "cell_type": "markdown",
   "metadata": {},
   "source": [
    "Untuk transformasi kolom tunggal yang lebih kompleks, Anda dapat menggunakan `Series.apply`. Seperti fungsi *map* Python, `Series.apply` menerima fungsi *lambda* sebagai argumen, yang diterapkan pada setiap nilai."
   ]
  },
  {
   "cell_type": "markdown",
   "metadata": {},
   "source": [
    "Contoh di bawah ini membuat **Series** baru yang menunjukkan apakah populasi di atas satu juta:"
   ]
  },
  {
   "cell_type": "code",
   "execution_count": null,
   "metadata": {},
   "outputs": [],
   "source": [
    "population.apply(lambda val: val > 1000000)"
   ]
  },
  {
   "cell_type": "markdown",
   "metadata": {},
   "source": [
    "Memodifikasi **DataFrame** juga mudah. Misalnya, kode berikut menambahkan dua **Series** ke **DataFrame** yang sudah ada:"
   ]
  },
  {
   "cell_type": "code",
   "execution_count": null,
   "metadata": {},
   "outputs": [],
   "source": [
    "cities['Area square miles'] = pd.Series([46.87, 176.53, 97.92])\n",
    "cities['Population density'] = cities['Population'] / cities['Area square miles']\n",
    "cities"
   ]
  },
  {
   "cell_type": "markdown",
   "metadata": {},
   "source": [
    "# Mari kita mulai"
   ]
  },
  {
   "cell_type": "code",
   "execution_count": null,
   "metadata": {},
   "outputs": [],
   "source": [
    "# NIM Anda di sini\n",
    "nim = ''\n",
    "print(f'NIM: {nim}')"
   ]
  },
  {
   "cell_type": "code",
   "execution_count": null,
   "metadata": {},
   "outputs": [],
   "source": [
    "# Nama Anda di sini\n",
    "nama = ''\n",
    "print(f'Nama: {nama}')"
   ]
  },
  {
   "cell_type": "markdown",
   "metadata": {},
   "source": [
    "# Latihan #1\n",
    "\n",
    "Modifikasi tabel kota dengan menambahkan kolom boolean baru, yang bernilai **True** jika dan hanya jika kedua hal berikut ini Benar:\n",
    "\n",
    "1. Nama kota diawali oleh suku kata `San` (*saint*).\n",
    "2. Kota tersebut memiliki luas lebih dari 50 mil persegi.\n",
    "\n",
    "**Catatan**: Boolean **Series** digabungkan menggunakan operator ***bitwise***, bukan operator boolean tradisional. Misalnya, saat melakukan *logical and*, gunakan `&` alih-alih `and`."
   ]
  },
  {
   "cell_type": "code",
   "execution_count": null,
   "metadata": {},
   "outputs": [],
   "source": [
    "# Kode Anda di sini\n",
    "cities['Is wide and has saint name'] = (\n",
    "    # lengkapi di sini\n",
    ")\n",
    "\n",
    "cities"
   ]
  },
  {
   "cell_type": "markdown",
   "metadata": {},
   "source": [
    "# Indeks\n",
    "\n",
    "Baik objek **Series** maupun **DataFrame** juga mendefinisikan properti *index* yang menetapkan nilai pengenal untuk setiap item **Series** atau baris **DataFrame**."
   ]
  },
  {
   "cell_type": "markdown",
   "metadata": {},
   "source": [
    "Secara *default*, saat konstruksi, pandas menetapkan nilai indeks yang mencerminkan urutan data sumber. Setelah dibuat, nilai indeks bersifat stabil; artinya, nilai tersebut tidak berubah ketika data diurutkan ulang."
   ]
  },
  {
   "cell_type": "code",
   "execution_count": null,
   "metadata": {},
   "outputs": [],
   "source": [
    "city_names.index"
   ]
  },
  {
   "cell_type": "code",
   "execution_count": null,
   "metadata": {},
   "outputs": [],
   "source": [
    "cities.index"
   ]
  },
  {
   "cell_type": "markdown",
   "metadata": {},
   "source": [
    "Panggil `DataFrame.reindex` untuk mengurutkan ulang baris secara manual. Misalnya, baris berikut memiliki efek yang sama dengan mengurutkan berdasarkan nama kota:"
   ]
  },
  {
   "cell_type": "code",
   "execution_count": null,
   "metadata": {},
   "outputs": [],
   "source": [
    "cities.reindex([2, 0, 1])"
   ]
  },
  {
   "cell_type": "markdown",
   "metadata": {},
   "source": [
    "*Reindexing* adalah cara yang bagus untuk mengacak (*shuffle*/me-randomisasi) **DataFrame**. Dalam contoh di bawah, kita mengambil indeks, yang menyerupai *array*, dan meneruskannya ke fungsi NumPy `random.permutation`, yang mengacak nilainya di tempat. Memanggil *reindex* dengan *array* yang diacak ini menyebabkan baris **DataFrame** diacak dengan cara yang sama. Coba jalankan sel berikut beberapa kali!"
   ]
  },
  {
   "cell_type": "code",
   "execution_count": null,
   "metadata": {},
   "outputs": [],
   "source": [
    "cities.reindex(np.random.permutation(cities.index))"
   ]
  },
  {
   "cell_type": "markdown",
   "metadata": {},
   "source": [
    "Untuk informasi lebih lanjut, lihat [dokumentasi Index](https://pandas.pydata.org/pandas-docs/stable/indexing.html#indexing)."
   ]
  },
  {
   "cell_type": "markdown",
   "metadata": {},
   "source": [
    "# Latihan #2\n",
    "\n",
    "Metode `reindex` memungkinkan untuk menambahkan indeks baru ke **DataFrame** asli. Coba dan lihat apa yang terjadi jika Anda menggunakan nilai tersebut! Menurut Anda mengapa ini diizinkan?"
   ]
  },
  {
   "cell_type": "code",
   "execution_count": null,
   "metadata": {},
   "outputs": [],
   "source": [
    "# Kode Anda di sini\n",
    "indeks_baru = [0, 4, 5, 2]\n",
    "\n",
    "# panggil fungsi reindex dengan argumen index_baru\n",
    "cities = cities.reindex([0, 4, 5, 2])\n",
    "\n",
    "# print baris data dengan nilai kolom yang semuanya NaN\n",
    "print(\n",
    "    # lengkapi di sini\n",
    ")\n",
    "\n",
    "# print jumlah baris kolom yang semuanya NaN\n",
    "print(\n",
    "    # lengkapi di sini\n",
    ")\n",
    "\n",
    "# TIPS: gunakan fungsi isna()"
   ]
  }
 ],
 "metadata": {
  "colab": {
   "collapsed_sections": [],
   "toc_states": {
    "Accessing Data": "hidden",
    "Basic Concepts": "hidden",
    "Exercise #1": "hidden",
    "Exercise #2": "hidden",
    "Indexes": "hidden",
    "Manipulating Data": "hidden",
    "Solution": "hidden"
   }
  },
  "kernelspec": {
   "display_name": "Python (venv-tugas1)",
   "language": "python",
   "name": "venv"
  },
  "language_info": {
   "codemirror_mode": {
    "name": "ipython",
    "version": 3
   },
   "file_extension": ".py",
   "mimetype": "text/x-python",
   "name": "python",
   "nbconvert_exporter": "python",
   "pygments_lexer": "ipython3",
   "version": "3.13.1"
  }
 },
 "nbformat": 4,
 "nbformat_minor": 0
}
